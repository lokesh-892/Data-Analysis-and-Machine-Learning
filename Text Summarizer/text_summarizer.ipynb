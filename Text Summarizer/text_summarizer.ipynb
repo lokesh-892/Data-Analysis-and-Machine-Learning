{
  "nbformat": 4,
  "nbformat_minor": 0,
  "metadata": {
    "kernelspec": {
      "language": "python",
      "display_name": "Python 3",
      "name": "python3"
    },
    "language_info": {
      "name": "python",
      "version": "3.7.10",
      "mimetype": "text/x-python",
      "codemirror_mode": {
        "name": "ipython",
        "version": 3
      },
      "pygments_lexer": "ipython3",
      "nbconvert_exporter": "python",
      "file_extension": ".py"
    },
    "colab": {
      "name": "text_summarizer.ipynb",
      "provenance": []
    }
  },
  "cells": [
    {
      "cell_type": "code",
      "metadata": {
        "_uuid": "8f2839f25d086af736a60e9eeb907d3b93b6e0e5",
        "_cell_guid": "b1076dfc-b9ad-4769-8c92-a6c4dae69d19",
        "execution": {
          "iopub.status.busy": "2021-07-11T19:38:08.324424Z",
          "iopub.execute_input": "2021-07-11T19:38:08.324995Z",
          "iopub.status.idle": "2021-07-11T19:38:14.848543Z",
          "shell.execute_reply.started": "2021-07-11T19:38:08.324853Z",
          "shell.execute_reply": "2021-07-11T19:38:14.847262Z"
        },
        "trusted": true,
        "id": "NYgazCfmQCCC"
      },
      "source": [
        "import re\n",
        "import os\n",
        "import time\n",
        "import pandas as pd\n",
        "import numpy as np\n",
        "import tensorflow as tf\n",
        "import matplotlib.pyplot as plt\n",
        "from tensorflow.compat.v1 import ConfigProto, InteractiveSession\n",
        "from sklearn.model_selection import train_test_split\n",
        "from tensorflow.keras.preprocessing.text import Tokenizer\n",
        "from tensorflow.keras.preprocessing.sequence import pad_sequences"
      ],
      "execution_count": 2,
      "outputs": []
    },
    {
      "cell_type": "code",
      "metadata": {
        "execution": {
          "iopub.status.busy": "2021-07-11T19:38:14.850671Z",
          "iopub.execute_input": "2021-07-11T19:38:14.851304Z",
          "iopub.status.idle": "2021-07-11T19:38:29.501173Z",
          "shell.execute_reply.started": "2021-07-11T19:38:14.851259Z",
          "shell.execute_reply": "2021-07-11T19:38:29.500116Z"
        },
        "trusted": true,
        "id": "HKLOkFoWQCCD",
        "outputId": "e8acdad3-7c44-4965-cca0-4bc2dfceb764"
      },
      "source": [
        "classes = os.listdir('../input/bbc-news-summary/BBC News Summary/News Articles')\n",
        "Articles_dir = '../input/bbc-news-summary/BBC News Summary/News Articles/'\n",
        "Summaries_dir = '../input/bbc-news-summary/BBC News Summary/Summaries/'\n",
        "\n",
        "articles = []\n",
        "summaries = []\n",
        "file_arr = []\n",
        "for cls in classes:\n",
        "    files = os.listdir(Articles_dir + cls)\n",
        "    for file in files:\n",
        "        article_file_path = Articles_dir + cls + '/' + file\n",
        "        summary_file_path = Summaries_dir + cls + '/' + file\n",
        "        try:\n",
        "            with open (article_file_path,'r') as f:\n",
        "                articles.append('.'.join([line.rstrip() for line in f.readlines()]))\n",
        "            with open (summary_file_path,'r') as f:\n",
        "                summaries.append('.'.join([line.rstrip() for line in f.readlines()]))\n",
        "            file_arr.append(cls + '/' + file)\n",
        "        except:\n",
        "            pass\n",
        "            \n",
        "dataset = pd.DataFrame({'File_path':file_arr,'Articles': articles,'Summaries':summaries})\n",
        "# dataset['Articles'][0]\n",
        "dataset.head()"
      ],
      "execution_count": null,
      "outputs": [
        {
          "output_type": "execute_result",
          "data": {
            "text/plain": [
              "          File_path                                           Articles  \\\n",
              "0  politics/361.txt  Budget to set scene for election..Gordon Brown...   \n",
              "1  politics/245.txt  Army chiefs in regiments decision..Military ch...   \n",
              "2  politics/141.txt  Howard denies split over ID cards..Michael How...   \n",
              "3  politics/372.txt  Observers to monitor UK election..Ministers wi...   \n",
              "4  politics/333.txt  Kilroy names election seat target..Ex-chat sho...   \n",
              "\n",
              "                                           Summaries  \n",
              "0  - Increase in the stamp duty threshold from £6...  \n",
              "1  \"They are very much not for the good and will ...  \n",
              "2  Michael Howard has denied his shadow cabinet w...  \n",
              "3  The report said individual registration should...  \n",
              "4  UKIP's leader, Roger Knapman, has said he is g...  "
            ],
            "text/html": [
              "<div>\n",
              "<style scoped>\n",
              "    .dataframe tbody tr th:only-of-type {\n",
              "        vertical-align: middle;\n",
              "    }\n",
              "\n",
              "    .dataframe tbody tr th {\n",
              "        vertical-align: top;\n",
              "    }\n",
              "\n",
              "    .dataframe thead th {\n",
              "        text-align: right;\n",
              "    }\n",
              "</style>\n",
              "<table border=\"1\" class=\"dataframe\">\n",
              "  <thead>\n",
              "    <tr style=\"text-align: right;\">\n",
              "      <th></th>\n",
              "      <th>File_path</th>\n",
              "      <th>Articles</th>\n",
              "      <th>Summaries</th>\n",
              "    </tr>\n",
              "  </thead>\n",
              "  <tbody>\n",
              "    <tr>\n",
              "      <th>0</th>\n",
              "      <td>politics/361.txt</td>\n",
              "      <td>Budget to set scene for election..Gordon Brown...</td>\n",
              "      <td>- Increase in the stamp duty threshold from £6...</td>\n",
              "    </tr>\n",
              "    <tr>\n",
              "      <th>1</th>\n",
              "      <td>politics/245.txt</td>\n",
              "      <td>Army chiefs in regiments decision..Military ch...</td>\n",
              "      <td>\"They are very much not for the good and will ...</td>\n",
              "    </tr>\n",
              "    <tr>\n",
              "      <th>2</th>\n",
              "      <td>politics/141.txt</td>\n",
              "      <td>Howard denies split over ID cards..Michael How...</td>\n",
              "      <td>Michael Howard has denied his shadow cabinet w...</td>\n",
              "    </tr>\n",
              "    <tr>\n",
              "      <th>3</th>\n",
              "      <td>politics/372.txt</td>\n",
              "      <td>Observers to monitor UK election..Ministers wi...</td>\n",
              "      <td>The report said individual registration should...</td>\n",
              "    </tr>\n",
              "    <tr>\n",
              "      <th>4</th>\n",
              "      <td>politics/333.txt</td>\n",
              "      <td>Kilroy names election seat target..Ex-chat sho...</td>\n",
              "      <td>UKIP's leader, Roger Knapman, has said he is g...</td>\n",
              "    </tr>\n",
              "  </tbody>\n",
              "</table>\n",
              "</div>"
            ]
          },
          "metadata": {
            "tags": []
          },
          "execution_count": 2
        }
      ]
    },
    {
      "cell_type": "code",
      "metadata": {
        "execution": {
          "iopub.status.busy": "2021-07-11T19:38:29.503984Z",
          "iopub.execute_input": "2021-07-11T19:38:29.504493Z",
          "iopub.status.idle": "2021-07-11T19:38:29.520160Z",
          "shell.execute_reply.started": "2021-07-11T19:38:29.504446Z",
          "shell.execute_reply": "2021-07-11T19:38:29.518732Z"
        },
        "trusted": true,
        "id": "m2Wk_PFCQCCE"
      },
      "source": [
        "contractions_dictionary = {\"ain't\": \"is not\", \"aren't\": \"are not\",\"can't\": \"cannot\", \"'cause\": \"because\", \"could've\": \"could have\", \"couldn't\": \"could not\",\n",
        "\n",
        "                           \"didn't\": \"did not\", \"doesn't\": \"does not\", \"don't\": \"do not\", \"hadn't\": \"had not\", \"hasn't\": \"has not\", \"haven't\": \"have not\",\n",
        "\n",
        "                           \"he'd\": \"he would\",\"he'll\": \"he will\", \"he's\": \"he is\", \"how'd\": \"how did\", \"how'd'y\": \"how do you\", \"how'll\": \"how will\", \"how's\": \"how is\",\n",
        "\n",
        "                           \"I'd\": \"I would\", \"I'd've\": \"I would have\", \"I'll\": \"I will\", \"I'll've\": \"I will have\",\"I'm\": \"I am\", \"I've\": \"I have\", \"i'd\": \"i would\",\n",
        "\n",
        "                           \"i'd've\": \"i would have\", \"i'll\": \"i will\",  \"i'll've\": \"i will have\",\"i'm\": \"i am\", \"i've\": \"i have\", \"isn't\": \"is not\", \"it'd\": \"it would\",\n",
        "\n",
        "                           \"it'd've\": \"it would have\", \"it'll\": \"it will\", \"it'll've\": \"it will have\",\"it's\": \"it is\", \"let's\": \"let us\", \"ma'am\": \"madam\",\n",
        "\n",
        "                           \"mayn't\": \"may not\", \"might've\": \"might have\",\"mightn't\": \"might not\",\"mightn't've\": \"might not have\", \"must've\": \"must have\",\n",
        "\n",
        "                           \"mustn't\": \"must not\", \"mustn't've\": \"must not have\", \"needn't\": \"need not\", \"needn't've\": \"need not have\",\"o'clock\": \"of the clock\",\n",
        "\n",
        "                           \"oughtn't\": \"ought not\", \"oughtn't've\": \"ought not have\", \"shan't\": \"shall not\", \"sha'n't\": \"shall not\", \"shan't've\": \"shall not have\",\n",
        "\n",
        "                           \"she'd\": \"she would\", \"she'd've\": \"she would have\", \"she'll\": \"she will\", \"she'll've\": \"she will have\", \"she's\": \"she is\",\n",
        "\n",
        "                           \"should've\": \"should have\", \"shouldn't\": \"should not\", \"shouldn't've\": \"should not have\", \"so've\": \"so have\",\"so's\": \"so as\",\n",
        "\n",
        "                           \"this's\": \"this is\",\"that'd\": \"that would\", \"that'd've\": \"that would have\", \"that's\": \"that is\", \"there'd\": \"there would\",\n",
        "\n",
        "                           \"there'd've\": \"there would have\", \"there's\": \"there is\", \"here's\": \"here is\",\"they'd\": \"they would\", \"they'd've\": \"they would have\",\n",
        "\n",
        "                           \"they'll\": \"they will\", \"they'll've\": \"they will have\", \"they're\": \"they are\", \"they've\": \"they have\", \"to've\": \"to have\",\n",
        "\n",
        "                           \"wasn't\": \"was not\", \"we'd\": \"we would\", \"we'd've\": \"we would have\", \"we'll\": \"we will\", \"we'll've\": \"we will have\", \"we're\": \"we are\",\n",
        "\n",
        "                           \"we've\": \"we have\", \"weren't\": \"were not\", \"what'll\": \"what will\", \"what'll've\": \"what will have\", \"what're\": \"what are\",\n",
        "\n",
        "                           \"what's\": \"what is\", \"what've\": \"what have\", \"when's\": \"when is\", \"when've\": \"when have\", \"where'd\": \"where did\", \"where's\": \"where is\",\n",
        "\n",
        "                           \"where've\": \"where have\", \"who'll\": \"who will\", \"who'll've\": \"who will have\", \"who's\": \"who is\", \"who've\": \"who have\",\n",
        "\n",
        "                           \"why's\": \"why is\", \"why've\": \"why have\", \"will've\": \"will have\", \"won't\": \"will not\", \"won't've\": \"will not have\",\n",
        "\n",
        "                           \"would've\": \"would have\", \"wouldn't\": \"would not\", \"wouldn't've\": \"would not have\", \"y'all\": \"you all\",\n",
        "\n",
        "                           \"y'all'd\": \"you all would\",\"y'all'd've\": \"you all would have\",\"y'all're\": \"you all are\",\"y'all've\": \"you all have\",\n",
        "\n",
        "                           \"you'd\": \"you would\", \"you'd've\": \"you would have\", \"you'll\": \"you will\", \"you'll've\": \"you will have\",\n",
        "\n",
        "                           \"you're\": \"you are\", \"you've\": \"you have\"}"
      ],
      "execution_count": null,
      "outputs": []
    },
    {
      "cell_type": "code",
      "metadata": {
        "execution": {
          "iopub.status.busy": "2021-07-11T19:38:29.522832Z",
          "iopub.execute_input": "2021-07-11T19:38:29.523343Z",
          "iopub.status.idle": "2021-07-11T19:38:30.603227Z",
          "shell.execute_reply.started": "2021-07-11T19:38:29.523279Z",
          "shell.execute_reply": "2021-07-11T19:38:30.601950Z"
        },
        "trusted": true,
        "id": "NRxijDNNQCCF"
      },
      "source": [
        "from string import digits\n",
        "import re\n",
        "\n",
        "def Filter(text):\n",
        "#     pattern = r'[0-9]'\n",
        "\n",
        "# # Match all digits in the string and replace them with an empty string\n",
        "#     text = re.sub(pattern, '', text)\n",
        "#     remove_digits = str.maketrans('', '', digits)\n",
        "#     text = text.translate(remove_digits)\n",
        "    text=text.lower()\n",
        "    text=' '.join([contractions_dictionary[i] if i in contractions_dictionary.keys() else i for i in text.split()])\n",
        "    text=re.sub(r'\\(.*\\)',\"\",text)\n",
        "    text=re.sub(\"'s\",\"\",text)\n",
        "    text=re.sub('\"','',text)\n",
        "    text=' '.join([i for i in text.split() if i.isalpha()])\n",
        "    text=re.sub('[^a-zA-Z]',\" \",text)\n",
        "    \n",
        "    return text\n",
        "\n",
        "dataset['File_path'] = dataset['File_path'].apply(Filter)\n",
        "dataset['Articles'] = dataset['Articles'].apply(Filter)\n",
        "dataset['Summaries'] = dataset['Summaries'].apply(Filter)"
      ],
      "execution_count": null,
      "outputs": []
    },
    {
      "cell_type": "code",
      "metadata": {
        "execution": {
          "iopub.status.busy": "2021-07-11T19:38:30.604814Z",
          "iopub.execute_input": "2021-07-11T19:38:30.605344Z",
          "iopub.status.idle": "2021-07-11T19:38:30.613332Z",
          "shell.execute_reply.started": "2021-07-11T19:38:30.605278Z",
          "shell.execute_reply": "2021-07-11T19:38:30.611798Z"
        },
        "trusted": true,
        "id": "yBdb7oaYQCCG",
        "outputId": "1d9f9649-99b0-413a-f354-b0457a1abe56"
      },
      "source": [
        "dataset.shape"
      ],
      "execution_count": null,
      "outputs": [
        {
          "output_type": "execute_result",
          "data": {
            "text/plain": [
              "(2224, 3)"
            ]
          },
          "metadata": {
            "tags": []
          },
          "execution_count": 5
        }
      ]
    },
    {
      "cell_type": "code",
      "metadata": {
        "execution": {
          "iopub.status.busy": "2021-07-11T19:38:30.615177Z",
          "iopub.execute_input": "2021-07-11T19:38:30.615962Z",
          "iopub.status.idle": "2021-07-11T19:38:32.029397Z",
          "shell.execute_reply.started": "2021-07-11T19:38:30.615915Z",
          "shell.execute_reply": "2021-07-11T19:38:32.028215Z"
        },
        "trusted": true,
        "id": "4kvy4P3TQCCG"
      },
      "source": [
        "from tensorflow.keras.preprocessing.text import Tokenizer\n",
        "from tensorflow.keras.preprocessing.sequence import pad_sequences\n",
        "\n",
        "vocab_size = 3000\n",
        "embedding_dim = 100\n",
        "max_length = 100\n",
        "trunc_type='post'\n",
        "padding_type='post'\n",
        "oov_tok = \"<OOV>\"\n",
        "training_size = 2000\n",
        "\n",
        "# training_articles = dataset['Articles'][0:training_size]\n",
        "# testing_articles = dataset['Articles'][training_size:]\n",
        "# training_summaries = dataset['Summaries'][0:training_size]\n",
        "# testing_summaries = dataset['Summaries'][training_size:]\n",
        "\n",
        "articles_tokenizer = Tokenizer(num_words=vocab_size, oov_token=oov_tok)\n",
        "articles_tokenizer.fit_on_texts(dataset['Articles'])\n",
        "\n",
        "summaries_tokenizer = Tokenizer(num_words=vocab_size, oov_token=oov_tok)\n",
        "summaries_tokenizer.fit_on_texts(dataset['Summaries'])\n",
        "\n",
        "# word_index = tokenizer.word_index\n",
        "\n",
        "training_sequences = articles_tokenizer.texts_to_sequences(dataset['Articles'])\n",
        "training_x_padded = pad_sequences(training_sequences, maxlen=max_length, padding=padding_type, truncating=trunc_type)\n",
        "\n",
        "training_sequences = summaries_tokenizer.texts_to_sequences(dataset['Summaries'])\n",
        "training_y_padded = pad_sequences(training_sequences, maxlen=30, padding=padding_type, truncating=trunc_type)\n",
        "\n"
      ],
      "execution_count": null,
      "outputs": []
    },
    {
      "cell_type": "code",
      "metadata": {
        "execution": {
          "iopub.status.busy": "2021-07-11T19:38:32.031025Z",
          "iopub.execute_input": "2021-07-11T19:38:32.031523Z",
          "iopub.status.idle": "2021-07-11T19:38:32.039508Z",
          "shell.execute_reply.started": "2021-07-11T19:38:32.031481Z",
          "shell.execute_reply": "2021-07-11T19:38:32.037723Z"
        },
        "trusted": true,
        "id": "I2FnoWZGQCCH",
        "outputId": "706764ba-dd59-45ab-a8bf-97ac0e2b39e5"
      },
      "source": [
        "training_x_padded[1].shape"
      ],
      "execution_count": null,
      "outputs": [
        {
          "output_type": "execute_result",
          "data": {
            "text/plain": [
              "(100,)"
            ]
          },
          "metadata": {
            "tags": []
          },
          "execution_count": 7
        }
      ]
    },
    {
      "cell_type": "code",
      "metadata": {
        "execution": {
          "iopub.status.busy": "2021-07-11T19:38:32.043229Z",
          "iopub.execute_input": "2021-07-11T19:38:32.043722Z",
          "iopub.status.idle": "2021-07-11T19:38:33.182969Z",
          "shell.execute_reply.started": "2021-07-11T19:38:32.043660Z",
          "shell.execute_reply": "2021-07-11T19:38:33.181752Z"
        },
        "trusted": true,
        "id": "ZWswZthHQCCH"
      },
      "source": [
        "NUM_TRAIN = 2224\n",
        "article_map = dict(map(reversed, articles_tokenizer.word_index.items()))\n",
        "summaries_map = dict(map(reversed, summaries_tokenizer.word_index.items()))\n",
        "\n",
        "article = np.zeros((NUM_TRAIN,100,vocab_size))\n",
        "summ = np.zeros((NUM_TRAIN,30,vocab_size))\n",
        "summ_target = np.zeros((NUM_TRAIN,30,vocab_size))\n",
        "for i,sequence in enumerate(training_x_padded):\n",
        "    for j,word in enumerate(sequence):\n",
        "        article[i,j,word ] = 1\n",
        "        \n",
        "for i,sequence in enumerate(training_y_padded):\n",
        "    for j,word in enumerate(sequence):\n",
        "        summ[i,j,word] = 1\n",
        "        if j>0:\n",
        "            summ_target[i,j-1,word] = 1\n",
        "    \n",
        "        \n",
        "        \n",
        "\n"
      ],
      "execution_count": null,
      "outputs": []
    },
    {
      "cell_type": "code",
      "metadata": {
        "execution": {
          "iopub.status.busy": "2021-07-11T19:38:33.184879Z",
          "iopub.execute_input": "2021-07-11T19:38:33.185455Z",
          "iopub.status.idle": "2021-07-11T19:38:33.195578Z",
          "shell.execute_reply.started": "2021-07-11T19:38:33.185403Z",
          "shell.execute_reply": "2021-07-11T19:38:33.194073Z"
        },
        "trusted": true,
        "id": "xJ9vO3RdQCCH",
        "outputId": "df3a8472-17ca-48c1-bc42-74b6edc360ca"
      },
      "source": [
        "training_x = article\n",
        "training_y = summ\n",
        "training_y_target = summ_target\n",
        "# testing_x_padded = np.array(testing_x_padded)\n",
        "# testing_y_padded = np.array(testing_y_padded)\n",
        "\n",
        "print(training_x.shape)\n",
        "print(training_y.shape)\n",
        "print(training_y_target.shape)\n",
        "# print(testing_x_padded.shape)\n",
        "# print(testing_y_padded.shape)\n",
        "\n"
      ],
      "execution_count": null,
      "outputs": [
        {
          "output_type": "stream",
          "text": [
            "(2224, 100, 3000)\n",
            "(2224, 30, 3000)\n",
            "(2224, 30, 3000)\n"
          ],
          "name": "stdout"
        }
      ]
    },
    {
      "cell_type": "code",
      "metadata": {
        "execution": {
          "iopub.status.busy": "2021-07-11T19:39:03.913561Z",
          "iopub.execute_input": "2021-07-11T19:39:03.913932Z",
          "iopub.status.idle": "2021-07-11T19:39:04.502729Z",
          "shell.execute_reply.started": "2021-07-11T19:39:03.913899Z",
          "shell.execute_reply": "2021-07-11T19:39:04.500393Z"
        },
        "trusted": true,
        "id": "-MnJHhAfQCCI",
        "outputId": "f1778eac-fc0a-451b-9175-e4466237a47c"
      },
      "source": [
        "encoder_inputs = tf.keras.layers.Input(shape=(None, vocab_size))\n",
        "encoder = tf.keras.layers.LSTM(embedding_dim, return_state=True)\n",
        "encoder_outputs, state_h, state_c = encoder(encoder_inputs)\n",
        "\n",
        "encoder_states = [state_h, state_c]\n",
        "\n",
        "\n",
        "decoder_inputs = tf.keras.layers.Input(shape=(None, vocab_size))\n",
        "decoder_lstm = tf.keras.layers.LSTM(embedding_dim, return_sequences=True, return_state=True)\n",
        "decoder_outputs, _, _ = decoder_lstm(decoder_inputs, initial_state=encoder_states)\n",
        "decoder_dense = tf.keras.layers.Dense(vocab_size, activation='softmax')\n",
        "decoder_outputs = decoder_dense(decoder_outputs)\n",
        "\n",
        "model = tf.keras.Model([encoder_inputs, decoder_inputs], decoder_outputs)\n",
        "model.compile(loss='categorical_crossentropy', optimizer='adam',metrics = ['accuracy'])\n",
        "model.summary()"
      ],
      "execution_count": null,
      "outputs": [
        {
          "output_type": "stream",
          "text": [
            "Model: \"model_1\"\n",
            "__________________________________________________________________________________________________\n",
            "Layer (type)                    Output Shape         Param #     Connected to                     \n",
            "==================================================================================================\n",
            "input_3 (InputLayer)            [(None, None, 3000)] 0                                            \n",
            "__________________________________________________________________________________________________\n",
            "input_4 (InputLayer)            [(None, None, 3000)] 0                                            \n",
            "__________________________________________________________________________________________________\n",
            "lstm_2 (LSTM)                   [(None, 100), (None, 1240400     input_3[0][0]                    \n",
            "__________________________________________________________________________________________________\n",
            "lstm_3 (LSTM)                   [(None, None, 100),  1240400     input_4[0][0]                    \n",
            "                                                                 lstm_2[0][1]                     \n",
            "                                                                 lstm_2[0][2]                     \n",
            "__________________________________________________________________________________________________\n",
            "dense_1 (Dense)                 (None, None, 3000)   303000      lstm_3[0][0]                     \n",
            "==================================================================================================\n",
            "Total params: 2,783,800\n",
            "Trainable params: 2,783,800\n",
            "Non-trainable params: 0\n",
            "__________________________________________________________________________________________________\n"
          ],
          "name": "stdout"
        }
      ]
    },
    {
      "cell_type": "code",
      "metadata": {
        "execution": {
          "iopub.status.busy": "2021-07-11T19:39:05.953355Z",
          "iopub.execute_input": "2021-07-11T19:39:05.953793Z",
          "iopub.status.idle": "2021-07-11T19:39:06.016995Z",
          "shell.execute_reply.started": "2021-07-11T19:39:05.953762Z",
          "shell.execute_reply": "2021-07-11T19:39:06.015778Z"
        },
        "trusted": true,
        "id": "fBrdTbtOQCCI",
        "outputId": "b9881267-e4df-46f0-d91c-eb4e31ae78a1"
      },
      "source": [
        "model.load_weights('./my_checkpoint')"
      ],
      "execution_count": null,
      "outputs": [
        {
          "output_type": "execute_result",
          "data": {
            "text/plain": [
              "<tensorflow.python.training.tracking.util.CheckpointLoadStatus at 0x7f671048ce50>"
            ]
          },
          "metadata": {
            "tags": []
          },
          "execution_count": 14
        }
      ]
    },
    {
      "cell_type": "code",
      "metadata": {
        "execution": {
          "iopub.status.busy": "2021-07-11T19:38:46.823280Z",
          "iopub.execute_input": "2021-07-11T19:38:46.823641Z",
          "iopub.status.idle": "2021-07-11T19:38:47.526020Z",
          "shell.execute_reply.started": "2021-07-11T19:38:46.823611Z",
          "shell.execute_reply": "2021-07-11T19:38:47.524823Z"
        },
        "trusted": true,
        "id": "SVmaOGcVQCCI"
      },
      "source": [
        "model = tf.keras.models.load_model('./model.h5')"
      ],
      "execution_count": null,
      "outputs": []
    },
    {
      "cell_type": "code",
      "metadata": {
        "execution": {
          "iopub.status.busy": "2021-07-11T19:39:11.664611Z",
          "iopub.execute_input": "2021-07-11T19:39:11.664990Z",
          "iopub.status.idle": "2021-07-11T19:41:10.584435Z",
          "shell.execute_reply.started": "2021-07-11T19:39:11.664956Z",
          "shell.execute_reply": "2021-07-11T19:41:10.583289Z"
        },
        "trusted": true,
        "id": "eYeJnOZ0QCCJ",
        "outputId": "f4e5af38-6e2e-4e48-f7c0-2f008c360343"
      },
      "source": [
        "\n",
        "model.fit([training_x,training_y],training_y_target,\n",
        "          epochs=30,\n",
        "          batch_size=64,\n",
        "          callbacks = [tf.keras.callbacks.CSVLogger('training.csv')]\n",
        "          )"
      ],
      "execution_count": null,
      "outputs": [
        {
          "output_type": "stream",
          "text": [
            "Epoch 1/30\n",
            "35/35 [==============================] - 13s 94ms/step - loss: 0.3860 - accuracy: 0.9066\n",
            "Epoch 2/30\n",
            "35/35 [==============================] - 4s 102ms/step - loss: 0.3930 - accuracy: 0.9051\n",
            "Epoch 3/30\n",
            "35/35 [==============================] - 3s 94ms/step - loss: 0.3836 - accuracy: 0.9077\n",
            "Epoch 4/30\n",
            "35/35 [==============================] - 3s 93ms/step - loss: 0.3997 - accuracy: 0.9029\n",
            "Epoch 5/30\n",
            "35/35 [==============================] - 4s 102ms/step - loss: 0.3928 - accuracy: 0.9045\n",
            "Epoch 6/30\n",
            "35/35 [==============================] - 3s 92ms/step - loss: 0.4080 - accuracy: 0.9015\n",
            "Epoch 7/30\n",
            "35/35 [==============================] - 3s 92ms/step - loss: 0.4220 - accuracy: 0.8979\n",
            "Epoch 8/30\n",
            "35/35 [==============================] - 4s 113ms/step - loss: 0.4232 - accuracy: 0.8965\n",
            "Epoch 9/30\n",
            "35/35 [==============================] - 3s 94ms/step - loss: 0.4288 - accuracy: 0.8949\n",
            "Epoch 10/30\n",
            "35/35 [==============================] - 3s 93ms/step - loss: 0.4443 - accuracy: 0.8897\n",
            "Epoch 11/30\n",
            "35/35 [==============================] - 3s 94ms/step - loss: 0.4333 - accuracy: 0.8947\n",
            "Epoch 12/30\n",
            "35/35 [==============================] - 3s 98ms/step - loss: 0.4294 - accuracy: 0.8952\n",
            "Epoch 13/30\n",
            "35/35 [==============================] - 3s 94ms/step - loss: 0.4108 - accuracy: 0.8985\n",
            "Epoch 14/30\n",
            "35/35 [==============================] - 3s 94ms/step - loss: 0.4292 - accuracy: 0.8955\n",
            "Epoch 15/30\n",
            "35/35 [==============================] - 4s 101ms/step - loss: 0.4225 - accuracy: 0.8977\n",
            "Epoch 16/30\n",
            "35/35 [==============================] - 3s 94ms/step - loss: 0.3983 - accuracy: 0.9026\n",
            "Epoch 17/30\n",
            "35/35 [==============================] - 3s 100ms/step - loss: 0.4029 - accuracy: 0.9017\n",
            "Epoch 18/30\n",
            "35/35 [==============================] - 4s 108ms/step - loss: 0.3970 - accuracy: 0.9043\n",
            "Epoch 19/30\n",
            "35/35 [==============================] - 3s 94ms/step - loss: 0.3864 - accuracy: 0.9053\n",
            "Epoch 20/30\n",
            "35/35 [==============================] - 3s 93ms/step - loss: 0.3822 - accuracy: 0.9067\n",
            "Epoch 21/30\n",
            "35/35 [==============================] - 3s 99ms/step - loss: 0.3685 - accuracy: 0.9102\n",
            "Epoch 22/30\n",
            "35/35 [==============================] - 3s 93ms/step - loss: 0.3774 - accuracy: 0.9092\n",
            "Epoch 23/30\n",
            "35/35 [==============================] - 3s 94ms/step - loss: 0.3812 - accuracy: 0.9072\n",
            "Epoch 24/30\n",
            "35/35 [==============================] - 3s 92ms/step - loss: 0.3878 - accuracy: 0.9055\n",
            "Epoch 25/30\n",
            "35/35 [==============================] - 4s 102ms/step - loss: 0.3706 - accuracy: 0.9100\n",
            "Epoch 26/30\n",
            "35/35 [==============================] - 3s 96ms/step - loss: 0.3748 - accuracy: 0.9087\n",
            "Epoch 27/30\n",
            "35/35 [==============================] - 4s 107ms/step - loss: 0.3731 - accuracy: 0.9084\n",
            "Epoch 28/30\n",
            "35/35 [==============================] - 4s 102ms/step - loss: 0.3833 - accuracy: 0.9060\n",
            "Epoch 29/30\n",
            "35/35 [==============================] - 3s 95ms/step - loss: 0.4041 - accuracy: 0.9020\n",
            "Epoch 30/30\n",
            "35/35 [==============================] - 3s 91ms/step - loss: 0.4184 - accuracy: 0.8975\n"
          ],
          "name": "stdout"
        },
        {
          "output_type": "execute_result",
          "data": {
            "text/plain": [
              "<tensorflow.python.keras.callbacks.History at 0x7f671017e310>"
            ]
          },
          "metadata": {
            "tags": []
          },
          "execution_count": 15
        }
      ]
    },
    {
      "cell_type": "code",
      "metadata": {
        "execution": {
          "iopub.status.busy": "2021-07-11T19:42:34.634505Z",
          "iopub.execute_input": "2021-07-11T19:42:34.634910Z",
          "iopub.status.idle": "2021-07-11T19:42:35.129629Z",
          "shell.execute_reply.started": "2021-07-11T19:42:34.634877Z",
          "shell.execute_reply": "2021-07-11T19:42:35.128448Z"
        },
        "trusted": true,
        "id": "3KRFMfBjQCCJ"
      },
      "source": [
        "model.save('model.h5')\n",
        "\n",
        "model.save_weights('./my_checkpoint')\n",
        "\n",
        "\n",
        "encoder_model = tf.keras.Model(encoder_inputs, encoder_states)\n",
        "decoder_state_input_h = tf.keras.layers.Input(shape=(embedding_dim,))\n",
        "decoder_state_input_c = tf.keras.layers.Input(shape=(embedding_dim,))\n",
        "decoder_states_inputs = [decoder_state_input_h, decoder_state_input_c]\n",
        "decoder_outputs, state_h, state_c = decoder_lstm(decoder_inputs, initial_state=decoder_states_inputs)\n",
        "decoder_states = [state_h, state_c]\n",
        "decoder_outputs = decoder_dense(decoder_outputs)\n",
        "decoder_model = tf.keras.Model([decoder_inputs] + decoder_states_inputs, [decoder_outputs] + decoder_states)"
      ],
      "execution_count": null,
      "outputs": []
    },
    {
      "cell_type": "code",
      "metadata": {
        "colab": {
          "base_uri": "https://localhost:8080/",
          "height": 545
        },
        "id": "EhafuUXi68sG",
        "outputId": "a7facb60-1244-4a78-d9e8-2e73cef9c66e"
      },
      "source": [
        "## Visualising the Accuracy and loss plots\n",
        "\n",
        "callback_csv = pd.read_csv('/content/training.csv')\n",
        "acc = callback_csv['accuracy']\n",
        "loss = callback_csv['loss']\n",
        "\n",
        "epochs = range(len(acc))\n",
        "\n",
        "plt.plot(epochs, acc, 'bo', label='Training accuracy')\n",
        "\n",
        "plt.title('Training and validation accuracy')\n",
        "\n",
        "plt.figure()\n",
        "\n",
        "plt.plot(epochs, loss, 'bo', label='Training Loss')\n",
        "\n",
        "plt.title('Training and validation loss')\n",
        "plt.legend()\n",
        "\n",
        "plt.show()"
      ],
      "execution_count": 5,
      "outputs": [
        {
          "output_type": "display_data",
          "data": {
            "image/png": "[encoded data removed]",
            "text/plain": [
              "<Figure size 432x288 with 1 Axes>"
            ]
          },
          "metadata": {
            "tags": [],
            "needs_background": "light"
          }
        },
        {
          "output_type": "display_data",
          "data": {
            "image/png": "[encoded data removed]",
            "text/plain": [
              "<Figure size 432x288 with 1 Axes>"
            ]
          },
          "metadata": {
            "tags": [],
            "needs_background": "light"
          }
        }
      ]
    },
    {
      "cell_type": "code",
      "metadata": {
        "execution": {
          "iopub.status.busy": "2021-07-11T20:16:29.219305Z",
          "iopub.execute_input": "2021-07-11T20:16:29.219714Z",
          "iopub.status.idle": "2021-07-11T20:16:29.229603Z",
          "shell.execute_reply.started": "2021-07-11T20:16:29.219680Z",
          "shell.execute_reply": "2021-07-11T20:16:29.227895Z"
        },
        "trusted": true,
        "id": "XE7MzHcCQCCJ"
      },
      "source": [
        "\n",
        "#Define Decode Sequence\n",
        "def decode_sequence(input_seq):\n",
        "    #Encode the input as state vectors.\n",
        "    states_value = encoder_model.predict(input_seq)\n",
        "\n",
        "    #Generate empty target sequence of length 1.\n",
        "    target_seq = np.zeros((1, 1, 3000))\n",
        "    #Get the first character of target sequence with the start character.\n",
        "    target_seq[0, 0, summaries_tokenizer.word_index['<OOV>']] = 1.\n",
        "\n",
        "    #Sampling loop for a batch of sequences\n",
        "    #(to simplify, here we assume a batch of size 1).\n",
        "    stop_condition = False\n",
        "    decoded_sentence = ''\n",
        "    while not stop_condition:\n",
        "        output_tokens, h, c = decoder_model.predict([target_seq] + states_value)\n",
        "\n",
        "        #Sample a token\n",
        "        sampled_token_index = np.argmax(output_tokens[0, -1, :])\n",
        "        sampled_char = summaries_map[sampled_token_index]\n",
        "        decoded_sentence += ' '+ sampled_char\n",
        "        \n",
        "        #Exit condition: either hit max length\n",
        "        #or find stop character.\n",
        "        if (sampled_char == '\\n' or\n",
        "           len(decoded_sentence) > 70):\n",
        "            stop_condition = True\n",
        "\n",
        "        #Update the target sequence (of length 1).\n",
        "        target_seq = np.zeros((1, 1, 3000))\n",
        "        target_seq[0, 0, sampled_token_index] = 1.\n",
        "\n",
        "        #Update states\n",
        "        states_value = [h, c]\n",
        "\n",
        "    return decoded_sentence"
      ],
      "execution_count": null,
      "outputs": []
    },
    {
      "cell_type": "code",
      "metadata": {
        "execution": {
          "iopub.status.busy": "2021-07-11T20:16:30.094828Z",
          "iopub.execute_input": "2021-07-11T20:16:30.095254Z",
          "iopub.status.idle": "2021-07-11T20:16:37.694527Z",
          "shell.execute_reply.started": "2021-07-11T20:16:30.095220Z",
          "shell.execute_reply": "2021-07-11T20:16:37.693166Z"
        },
        "trusted": true,
        "id": "_C-jp12VQCCK",
        "outputId": "3759e82e-a065-425d-dd65-3f3ea7ef0cf1"
      },
      "source": [
        "for seq_index in range(10):\n",
        "    input_seq = training_x[seq_index: seq_index + 1]\n",
        "    decoded_sentence = decode_sequence(input_seq)\n",
        "    print('-')\n",
        "    print('Input sentence:', dataset['Articles'][seq_index])\n",
        "    print('Decoded sentence:', decoded_sentence)"
      ],
      "execution_count": null,
      "outputs": [
        {
          "output_type": "stream",
          "text": [
            "-\n",
            "Input sentence: budget to set scene for brown will seek to put the economy at the centre of labour bid for a third term in power when he delivers his ninth budget at he is expected to stress the importance of continued economic with low unemployment and interest the chancellor is expected to freeze petrol duty and raise the stamp duty threshold from but the conservatives and lib dems insist voters face higher taxes and more under officials have said there will not be a but mr brown is thought to have about to increase in the stamp duty threshold from a freeze on petrol an extension of tax credit scheme for poorer possible help for pensioners the stamp duty threshold rise is intended to help first time buyers a likely theme of all three of the main general election ten years buyers had a much greater chance of avoiding stamp with close to half a million in england and wales selling for less than since average uk property prices have more than doubled while the starting threshold for stamp duty has not tax credits as a the number of properties incurring stamp duty has rocketed as has the government tax the liberal democrats unveiled their own proposals to raise the stamp duty threshold to in tories are also thought likely to propose increased with shadow chancellor oliver letwin branding stamp duty a classic labour stealth the tories say whatever the chancellor gives away will be clawed back in higher taxes if labour is returned to shadow treasury chief secretary george osborne everyone who looks at the british economy at the moment says there has been a sharp deterioration in the public that there is a black he if labour is elected there will be a very substantial tax increase in the budget after the of the order of around mr brown former advisor ed now a parliamentary said an examination of tory plans for the economy showed there would be a difference in investment by the end of the next parliament between the two main he i do not accept there is any need for any changes to the plans we have set out to meet our spending the lib dems david laws the chancellor will no doubt tell us today how wonderfully the economy is he but a lot of that is built on an increase in personal and consumer debt over the last few years that makes the economy quite vulnerable potentially if interest rates ever do have to go up in a significant snp leader alex salmond said his party would introduce a grant for first time reduce corporation tax and introduce a citizens pension free from means plaid cymru economics spokesman adam price said he wanted help to get people on the housing ladder and an increase in the minimum wage to an\n",
            "Decoded sentence:  said a computer and automatically <OOV> up to the election can to allow\n",
            "-\n",
            "Input sentence: army chiefs in regiments chiefs are expected to meet to make a final decision on the future of scotland army committee of the army which is made up of the most senior defence will discuss plans for restructuring regiments on the proposals include cutting scotland six regiments to five and merging these into a super the plans have faced stiff opposition from campaigners and politicians the committee decision must be ratified by defence secretary geoff hoon and prime minister tony it is expected that it will be made public next when ministers announced a reorganisation of the army it drew a question mark over the futures of the black the kings own scottish the royal the royal highland fusiliers and the argyll and sutherland in the council of scottish colonels proposed the merger of the royal scots and the king own scottish borderers into a single their it would be one of five in the new super the proposals to either merge or amalgamate the six regiments into a super regiment sparked a political with labour backbenchers and opposition politicians opposing the they felt the timing was insensitive because the black watch was in the frontline in suffering the save the scottish regiments campaigners were so angered they threatened to stand against labour at the next general ahead of the expected army board a spokesman the government and the army board have spent the past four months attempting to trick serving soldiers and the public into thinking their planned changes for the scottish regiments are for the good of the army and for that of the serving they are very much not for the good and will destroy scotland regiments by moulding them into a single super regiment which will lead to severe recruitment a loss of local connections to those regiments and a loss to scotland of an important part of her heritage most her future the regiments are the envy of armies around the an alternative blueprint had been put forward by labour mp eric who proposed going ahead with the merger while preserving the other for a brief there was speculation the prime minister might consider the but that now seems speaking in scotland last mr blair said the aim was to preserve tradition but introduce a more effective structure and hinted that a super regiment was he they do not want to get rid of the history or the traditions of the regiment or the local connections far from all they want to do is make sure they can transfer people easily across regiments and deploy them more the prime minister said he hoped concerns would be taken into account but the need for effective change had to be\n",
            "Decoded sentence:  it could not really made against the the national association mark <OOV>\n",
            "-\n",
            "Input sentence: howard denies split over id howard has denied his shadow cabinet was split over its decision to back controversial labour plans to introduce id tory leader said his front bench team had reached a collective view after holding a good but admitted it was not an easy he had decided to support the plans as the police said they would help fight crime and illegal the lib dems have pledged to oppose the bill when it is debated next sources say senior party figures had argued vociferously against the id card among those reported to have serious reservations over the strategy were senior shadow cabinet members david oliver letwin and tim but mr howard denied mr his transport and environment said the plans he also said he was confident shadow home secretary mr davis would set out the position very clearly when he stands up to debate the matter next mr howard said the police had said id cards could help them foil a terror bomb plot in which people could lose their he when the police say that you have to take them acknowledged there were good libertarian arguments against the but said the shadow cabinet had weighed up all the conflicting interests before reaching its i do not pretend that it is an easy decision but at the end of the day a decision has to be he also denied he was afraid of looking soft on the compared to the conservatives announced their support for the government plans on monday within the party told the bbc mr howard had always been in favour of id and tried to introduce them when he was home but the tories insisted they would hold ministers to account over the precise purpose of the said they would also press labour over whether objectives could be met and whether the home office would be able to deliver and they pledged to assess the cost effectiveness of id cards and whether people privacy would be properly it is important to remember that this bill will take a decade to come into full a spokesman lib dem home affairs spokesman mark oaten has branded the id scheme a waste of money and deeply he this has all the signs of michael howard overruling concerns over id chairman of the bar guy mansfield qc warned there was a real risk that people on the margins of society would be driven into the hands of what is going to happen to young asian men when there has been a bomb gone off they are going to be if they have not they are going to be tory douglas hogg said he opposed the plans for id cards branding them a regressive step which would intrude into the lives of ordinary citizens without any counterbalancing he predicted ultimately carrying the cards would become compulsory and that would lead to large numbers of britain ethnic minorities being stopped by\n",
            "Decoded sentence:  came said after the claimed ms between <OOV> in the fastest time in the\n",
            "-\n",
            "Input sentence: observers to monitor uk will invite international observers to check the forthcoming uk general election is fairly move comes amid claims the poll could be marred by electoral a report by two mps committees called on thursday for urgent changes to the electoral registration system to combat vote rigging and boost but in a written response to labour mp gordon the government said it would normally invite observers to any uk constitutional affairs minister christopher leslie i fully expect us to repeat our previous practice of doing so once the date for the next general election is the government has looked at ways of boosting voter which fell to in the last general election in trial ballots in four english regions last summer were hit by delays and some fraud liberal democrat peer lord greaves called last week for international observers at the general election saying otherwise there could be months of court challenges on a scale not seen since the thursday report was drawn up by two committees scrutinising the work of the office of the deputy prime minister it said with the growth of postal there was a strong case to tighten up fraud protection by requiring voters to register rather than by it also said about three million people eligible to vote are not registered to do for the general election suggest of people aged between and and of black voters were not on the electoral young people in shared accommodation are thought to miss out because no one acts as head of the household to fill in the odpm committee chairman andrew bennett said individual voter as opposed to registration by should be quickly introduced as it could dramatically reduce the chances of but his counterpart on the dca alan said it should be delayed until measures likely to increase registration have been put in place and proved shadow constitutional affairs secretary oliver heald accused the government of dragging its feet over this badly needed it is vital that we move ahead with the northern ireland system of individual electoral registration to safeguard the integrity of the britain electoral he report said individual registration should be treated carefully as of voters disappeared from the electoral roll in northern ireland when it was introduced in the report said the government should consider fines for unregistered but accepted many experts said it would be an expensive system that would be hard to it said incentives to such as council tax were likely to be seen as gimmicks and risked undermining the integrity of the mps instead they called for imaginative campaigns to boost\n",
            "Decoded sentence:  spokesman for the <OOV> said they have found more than to the new zealand\n",
            "-\n",
            "Input sentence: kilroy names election seat show host robert is to contest the derbyshire seat of erewash at the next general elizabeth blackman won the seat in and has a she says she will fight on her record as a constituency mr announced his plans a day after launching his new the latin for the east midlands who quit the uk independence wants his new group to change the face of uk his choice of election constituency quashes speculation that he would stand against defence secretary geoff hoon in ukip won of the vote in erewash in last june european elections with mr among their candidates for the until erewash had been held by the tories since ms blackman said she was proud of the government achievements in the she declined to give her view of mr at this he told a london news conference that veritas would avoid the old lies and he said our country was being stolen from us by mass immigration and promised a firm but fair policy on veritas says it hopes to contest most seats at the forthcoming general election but plans to announce detailed policies on health and defence over the next few leader roger knapman says he is glad to see the back of mr labour campaign spokesman fraser kemp said veritas was joining an already crowded field on the right of british mr was joined in the new venture by one of ukip two london assembly damien who is now deputy chairman petrina holdsworth has said the group will just be a parody of the party the men have mr quit ukip last week after months of tension as he vied unsuccessfully for the leadership of that he said he was ashamed to be a member of a ukip whose leadership had gone awol after the great opportunity offered by its third place at last june european ukip roger has said he is glad to see the back of mr he has remarkable ability to influence people after the election it became clear that he was more interested in the robert party than the uk independence party so it was nice knowing now he ukip officials also argue mr has not been straightforward in attacking the party he once wanted to\n",
            "Decoded sentence:  higher phil is said it his red would not those who selected there is increasing\n",
            "-\n",
            "Input sentence: donor attacks reported feud between tony blair and gordon brown has prompted a labour donor to say he will almost certainly refuse to give more bannatyne also attacked the government over iraq and its poor response to the asian tsunami his broadside came as secretary robin cook said he hoped mr brown would be premier at some mr bannatyne has previously given labour he made his fortune from care homes and health on tuesday said was he was reviewing his donations because of cabinet disunity and international his spokesman said it was highly unlikely he would give labour more although he would remain a supporter and not fund the peston new book has prompted more speculation about the rift with its claims that the prime minister broke a promise made in to stand mr bannatyne disunity in the cabinet has a corrosive effect on the gordon brown is a great chancellor who has delivered a stable but business wants that to continue and not be blown off course by petty squabbles based on personal the whose latest venture is a casino in also voiced concern about the ongoing violence in he branded the uk government response to the tsunami as piecemeal and the people there need practical help not just pledges of he the us has forces helping on the ground we can do british navy ships have helped the relief effort and the prime minister has said the government could ultimately give hundreds of millions of pounds in mr bannatyne is due to host a new television programme and is also appearing on business programme dragon but his spokesman insisted his attack on labour was not a publicity a separate robin cook gave his support to mr brown prime ministerial ambitions but told a lunch for political journalists winning the election had to be labour but he insisted the recent squabbles between mr blair and mr brown were not perceived as a problem by the adding there was no impression of governmental mr cook argued that more prominence was given to these matters because there was not an alternative source of opposition to the he warned the abstentions party was the real challenge to labour and they would not be motivated by mr blair promise to produce an unremittingly new labour election his comments come after dave the leader of britain biggest union told the daily record newspaper he wants a date to be set for mr blair to be replaced as labour\n",
            "Decoded sentence:  <OOV> henry previously <OOV> a <OOV> <OOV> has <OOV> its plans to buy us\n",
            "-\n",
            "Input sentence: research fears over kelly have expressed concerns that new education secretary ruth kelly religious views could hamper vital scientific who is is reported to be and has opposed embryo medical research council professor nancy rothwell said ms kelly views mattered as she was responsible for training future the department for education and skills would not comment on the spokeswoman it is not news that ms kelly is a catholic but we are not going into any details on but she added that claims ms kelly was in charge of a university research budget were not it was down to the higher education funding council and the research councils to decide on research british law is open to the cloning of human embryos to create stem master cells that can develop into all the body tissue this cloning activity is not permitted for reproductive purposes only for research into new disease it is controversial because it involves the destruction of who is also of research at manchester told the times higher education supplement it would worry her a great deal if ministers were she the views of ministers in the dfes do matter as they are responsible for training the next generation of you cannot have a higher education policy that is at odds with the government science head of developmental genetics at the national institute of medical professor robin said he had witnessed the confused situation in the us where many religious groups opposed the he if someone as senior as ruth kelly is not going to favour stem cell research we will end up with a similarly schizophrenic system in this it is very but fertility expert lord winston said he thought it was rather good ministers held ethical concerns have also been raised by organisations that ms kelly views might affect sex education policy in planning association chief anne said teaching pupils about contraception and abortion were young people must be informed about all the issues within sexual which include contraception and i think it is very important that the government maintains its commitment to the teenage pregnancy individual schools devise their own sex education policies based on a framework provided by the ms kelly has not set out her detailed views on either issue but has said she intends to put parents first in education this would include the quality of classroom discipline and academic standards in she\n",
            "Decoded sentence:  in the screen test service their role in a world record by human you cannot\n",
            "-\n",
            "Input sentence: chancellor rallies labour brown has issued a rallying telling supporters the stakes are too high to stay at home or protest vote in the forthcoming general chancellor said the vote expected to fall on may will give a clear and fundamental choice between labour investment and conservative speaking at labour spring conference in mr brown claimed the nhs was not safe in conservative he said tory plans to cut tax would cut deep into public a packed audience at gateshead sage the chancellor said the cuts proposed by shadow chancellor oliver letwin were the equivalent of sacking every gp and nurse in the he told laying into the conservative record in government he i give you this promise with britain will never return to the mistakes of erm and interest in lost one million in negative equity and three million never again tory boom and will be the central dividing line at the between a conservative party taking britain back and planning deep cuts of in our and a labour government taking britain which on a platform of stability will reform and renew our schools and public services i am proud to spend by turning to the the chancellor pledged to continue economic stability and growth in a third term in said after seven years labour had transformed from a party not trusted with the economy to the only party trusted with the it was now a party not just of but of employers and he in the speech which prompted a standing ovation from an audience clearly warm to mr brown he also promised to end teenage unemployment within the next five he also highlighted plans for debt relief for the world poorest a national minimum wage for and and the creation of a network of children centres and flexibility in maternity the prime minister is to take part later on saturday in an interactive question and answer fielding queries sent in by text message and telephone as part of labour attempt to engage the public in their\n",
            "Decoded sentence:  the tory report chose charles proposals from the coach sir paul <OOV> to\n",
            "-\n",
            "Input sentence: fox attacks blair tory blair lied when he took the uk to war so has no qualms about lying in the election say the liam fox was speaking after mr blair told labour members the tories offered a hard right dr fox told bbc if you are willing to lie about the reasons for going to i guess you are going to lie about anything at he would not discuss reports the party repaid to lord ashcroft after he predicted an election prime minister ratcheted up labour campaigning at the weekend with a helicopter tour of the country and his speech at the party spring he insisted he did not know the poll but it is widely expected to be what was seen as a highly personal speech in gateshead on mr blair i have the same passion and hunger as when i first walked through the door of downing he described his relationship with the public as starting then struggling to live up to the and reaching the point of raised voices and throwing he warned his supporters against it a fight for the future of our it is a fight that for britain and the people of britain we have to blair said that whether the public chose michael howard or mr it would result in a tory government not a labour government and a country that goes back and does not move dr fox accused mr blair and other cabinet ministers of telling lies about their policies and then attacking the what we learned at the weekend is what labour tactics are going to be and it is going to be fear and he told bbc the tory attacked labour six new pledges as vacuous and said mr blair was very worried voters would take revenge for his failure to dr fox refused to discuss weekend newspaper reports that the party had repaid to former tory treasurer lord ashcroft after he said the party could not win the we repay loans when they are due but do not comment to individual financial he insisting he enjoyed a warm and constructive relationship to lord lib dem leader charles kennedy is expected to attack mr blair words as he begins a nationwide tour on mr kennedy is accelerating lib dem election preparations this week as he visits dorset and he this is in the northern the contest is between labour and the liberal in southern and rural seats especially in the south west the principal contenders are the liberal democrats and the who are out of the running in scotland and the lib dems accuse mr blair of making a speech to labour delegates which will not help him regain public\n",
            "Decoded sentence:  sales still to in the game <OOV> into the northern football as coach <OOV>\n",
            "-\n",
            "Input sentence: tories unveil quango blitz to abolish quangos have been unveiled by the conservatives as part of their effort to show how government red tape can be government units would also be scrapped under proposals which the tories say would save more than among the targets are strategic health authorities and the new fair access regulator for tory frontbencher john redwood said britain needed a slimmer government and lower taxes to be plans would abolish regional assemblies and other regional such as boards tackling industrial development and their powers would be returned to elected local councils or national the tories say the strategic health authorities are not needed as it is better that local rather than run hospitals and the mr redwood mr blair has forgotten the interests of and has broken the pledges he far from improving public spending money on quangos has led only to more more regulation and higher his party michael argued a change in direction was needed to get a grip on labour are creating two the britain of the forgotten majority and bureaucratic he in the real people are working harder just to stand they have seen their pensions knocked for being squeezed by extra the forgotten majority are paying the price of bureaucratic government has announced plans to cut civil servants as part of its efficiency but chief secretary to the treasury paul boateng attacked the tory the conservatives are committed to cutting labour public spending plans by a massive he cuts on this scale cannot be found from cutting but would require massive cuts to public services such as hospitals and the the liberal democrats have said they would cut the number of whitehall departments to make sure money reaches frontline\n",
            "Decoded sentence:  government <OOV> also should local <OOV> rumours proposals that the other\n"
          ],
          "name": "stdout"
        }
      ]
    },
    {
      "cell_type": "code",
      "metadata": {
        "execution": {
          "iopub.status.busy": "2021-07-11T19:43:15.256901Z",
          "iopub.execute_input": "2021-07-11T19:43:15.257294Z",
          "iopub.status.idle": "2021-07-11T19:43:15.298679Z",
          "shell.execute_reply.started": "2021-07-11T19:43:15.257261Z",
          "shell.execute_reply": "2021-07-11T19:43:15.297423Z"
        },
        "trusted": true,
        "id": "vP28qO3OQCCK"
      },
      "source": [
        "encoder_model.save('encoder.h5')\n",
        "decoder_model.save('decoder.h5')"
      ],
      "execution_count": null,
      "outputs": []
    },
    {
      "cell_type": "code",
      "metadata": {
        "id": "RmeWyk32QCCK"
      },
      "source": [
        ""
      ],
      "execution_count": null,
      "outputs": []
    }
  ]
}